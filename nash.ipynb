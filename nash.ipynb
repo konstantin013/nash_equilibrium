{
 "cells": [
  {
   "cell_type": "code",
   "execution_count": 1,
   "metadata": {
    "collapsed": true
   },
   "outputs": [],
   "source": [
    "import numpy as np\n",
    "from scipy import optimize"
   ]
  },
  {
   "cell_type": "code",
   "execution_count": 30,
   "metadata": {
    "collapsed": true
   },
   "outputs": [],
   "source": [
    "def nash_equilibrium(a):\n",
    "    m, n = a.shape\n",
    "    \n",
    "    min_el = a.min()\n",
    "    if (min_el <= 0):\n",
    "        a = a - min_el + 1\n",
    "        #thus we guarantee that game solution is possitive\n",
    "        \n",
    "    at = -a.transpose()\n",
    "    c = np.array([1, ] * m) #this should be improve\n",
    "    b = np.array([-1, ] * n)\n",
    "    res = optimize.linprog(c=c, A_ub=at, b_ub=b)\n",
    "    p = res.x\n",
    "    u = 1 / p.sum()\n",
    "    p *= u\n",
    "    \n",
    "    c = np.array([-1, ] * n)\n",
    "    b = np.array([1] * m)\n",
    "    res = optimize.linprog(c=c, A_ub=a, b_ub=b)\n",
    "    q = res.x\n",
    "    q *= u\n",
    "    \n",
    "    u += min_el - 1\n",
    "    \n",
    "    return (u, p, q)"
   ]
  },
  {
   "cell_type": "code",
   "execution_count": 31,
   "metadata": {
    "collapsed": false
   },
   "outputs": [
    {
     "name": "stdout",
     "output_type": "stream",
     "text": [
      "0.888888888889\n",
      "[ 0.55555556  0.44444444]\n",
      "[ 0.77777778  0.          0.22222222]\n"
     ]
    }
   ],
   "source": [
    "A = np.array([[0, 3, 4], [2, 1, -3]])\n",
    "u, p, q = nash_equilibrium(A)\n",
    "print(u)\n",
    "print(p)\n",
    "print(q)"
   ]
  },
  {
   "cell_type": "code",
   "execution_count": 34,
   "metadata": {
    "collapsed": false
   },
   "outputs": [
    {
     "name": "stdout",
     "output_type": "stream",
     "text": [
      "4.87096774194\n",
      "[ 0.          0.12903226  0.09677419  0.43548387  0.33870968  0.        ]\n",
      "[ 0.          0.          0.69086022  0.14516129  0.14784946  0.01612903]\n"
     ]
    }
   ],
   "source": [
    "A = np.array([[4, 0, 6,  2,  2, 1],\n",
    "              [3, 8, 4, 10, 4, 4],\n",
    "              [1, 2, 6,  5,  0, 0],\n",
    "              [6, 6, 4, 4, 10, 3],\n",
    "              [10, 4, 6, 4, 0, 9],\n",
    "              [10, 7, 0, 7, 9, 8]])\n",
    "u, p, q = nash_equilibrium(A)\n",
    "print(u)\n",
    "print(p)\n",
    "print(q)"
   ]
  }
 ],
 "metadata": {
  "kernelspec": {
   "display_name": "Python 3",
   "language": "python",
   "name": "python3"
  },
  "language_info": {
   "codemirror_mode": {
    "name": "ipython",
    "version": 3
   },
   "file_extension": ".py",
   "mimetype": "text/x-python",
   "name": "python",
   "nbconvert_exporter": "python",
   "pygments_lexer": "ipython3",
   "version": "3.5.2"
  }
 },
 "nbformat": 4,
 "nbformat_minor": 1
}
